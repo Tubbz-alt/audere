{
 "cells": [
  {
   "cell_type": "code",
   "execution_count": null,
   "metadata": {},
   "outputs": [],
   "source": [
    "import tensorflow as tf\n",
    "import numpy as np\n",
    "from PIL import Image\n",
    "\n",
    "import matplotlib.pyplot as plt\n",
    "import matplotlib.patches as patches"
   ]
  },
  {
   "cell_type": "code",
   "execution_count": null,
   "metadata": {},
   "outputs": [],
   "source": [
    "PATH_TO_MODEL = './frozen_inference_graph.pb'\n",
    "NUM_CLASSES = 5\n",
    "SCORE_THRESHOLD = .5\n",
    "COLORS = ['?', 'red', 'purple', 'green', 'blue', 'orange']"
   ]
  },
  {
   "cell_type": "code",
   "execution_count": null,
   "metadata": {},
   "outputs": [],
   "source": [
    "def get_label(class_index):\n",
    "    return ['?', 'arrows', 'test', 'ABC', 'squares', 'influenza'][class_index];\n",
    "\n",
    "class Detector(object):\n",
    "    def __init__(self):\n",
    "        self.detection_graph = tf.Graph()\n",
    "        with self.detection_graph.as_default():\n",
    "            od_graph_def = tf.GraphDef()\n",
    "            with tf.gfile.GFile(PATH_TO_MODEL, 'rb') as fid:\n",
    "                serialized_graph = fid.read()\n",
    "                od_graph_def.ParseFromString(serialized_graph)\n",
    "                tf.import_graph_def(od_graph_def, name='')\n",
    "            self.image_tensor = self.detection_graph.get_tensor_by_name('image_tensor:0')\n",
    "            self.d_boxes = self.detection_graph.get_tensor_by_name('detection_boxes:0')\n",
    "            self.d_scores = self.detection_graph.get_tensor_by_name('detection_scores:0')\n",
    "            self.d_classes = self.detection_graph.get_tensor_by_name('detection_classes:0')\n",
    "            self.num_d = self.detection_graph.get_tensor_by_name('num_detections:0')\n",
    "        self.sess = tf.Session(graph=self.detection_graph)\n",
    "        \n",
    "    def run_detection(self, image):\n",
    "        img = np.asarray(image, dtype=\"int32\")\n",
    "        # Bounding Box Detection.\n",
    "        with self.detection_graph.as_default():\n",
    "            # Expand dimension since the model expects image to have shape [1, None, None, 3].\n",
    "            img_expanded = np.expand_dims(img, axis=0)  \n",
    "            (boxes, scores, classes, num) = self.sess.run(\n",
    "                [self.d_boxes, self.d_scores, self.d_classes, self.num_d],\n",
    "                feed_dict={self.image_tensor: img_expanded})\n",
    "            \n",
    "        # We only accept one input image (batch_size == 1), so only need to return the first result\n",
    "        return boxes[0], scores[0], classes[0], num[0]\n",
    "    \n",
    "    def get_top_predictions(self, scores, classes, detections):\n",
    "        top_predictions =  [None] * (NUM_CLASSES + 1) # 1 based label indexing\n",
    "\n",
    "        for i in range(int(detections)):\n",
    "            if scores[i] < SCORE_THRESHOLD:\n",
    "                continue\n",
    "\n",
    "            label = int(classes[i])\n",
    "            if top_predictions[label] is None or scores[i] > scores[top_predictions[label]]:\n",
    "                top_predictions[label] = i\n",
    "\n",
    "        return top_predictions\n",
    "    \n",
    "    def add_patch(self, axs, image, box, color, label, score):\n",
    "        width = image.width\n",
    "        height = image.height\n",
    "        ymin = box[0] * height\n",
    "        xmin = box[1] * width\n",
    "        ymax = box[2] * height\n",
    "        xmax = box[3] * width\n",
    "        axs.add_patch(patches.Rectangle(\n",
    "            (xmin, ymin),\n",
    "            xmax - xmin,\n",
    "            ymax - ymin,\n",
    "            linewidth=2,\n",
    "            edgecolor=color,\n",
    "            facecolor='none'\n",
    "        ))\n",
    "        axs.annotate(label + \" \" + str(round(score, 2)),\n",
    "                     color=color,\n",
    "                     fontsize=15,\n",
    "                     xy=(xmin + 10, ymax - 10)\n",
    "                    )\n",
    "    \n",
    "    def display_inference(self, image_path):\n",
    "        image = Image.open(image_path)\n",
    "        (boxes, scores, classes, detections) = self.run_detection(image)\n",
    "        top_predictions = self.get_top_predictions(scores, classes, detections)\n",
    "        \n",
    "        fig, ax = plt.subplots(figsize=(20, 10), ncols=1, nrows=1)\n",
    "        ax.imshow(image)\n",
    "        ax.set_axis_off()\n",
    "        \n",
    "        for i in range(1, len(top_predictions)):\n",
    "            z = top_predictions[i]\n",
    "            if z is not None:\n",
    "                print(get_label(i))\n",
    "                print(boxes[z])\n",
    "                color = COLORS[i]\n",
    "                self.add_patch(ax, image, boxes[z], color, get_label(i), scores[z])\n",
    "\n",
    "        plt.show()\n",
    "        \n",
    "        image.close()"
   ]
  },
  {
   "cell_type": "code",
   "execution_count": null,
   "metadata": {},
   "outputs": [],
   "source": [
    "detector = Detector()\n",
    "detector.display_inference(\"rdt.jpg\")"
   ]
  },
  {
   "cell_type": "code",
   "execution_count": null,
   "metadata": {},
   "outputs": [],
   "source": []
  },
  {
   "cell_type": "code",
   "execution_count": null,
   "metadata": {},
   "outputs": [],
   "source": []
  }
 ],
 "metadata": {
  "kernelspec": {
   "display_name": "Python 3",
   "language": "python",
   "name": "python3"
  },
  "language_info": {
   "codemirror_mode": {
    "name": "ipython",
    "version": 3
   },
   "file_extension": ".py",
   "mimetype": "text/x-python",
   "name": "python",
   "nbconvert_exporter": "python",
   "pygments_lexer": "ipython3",
   "version": "3.7.7"
  }
 },
 "nbformat": 4,
 "nbformat_minor": 2
}
